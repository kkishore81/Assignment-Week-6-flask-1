{
 "cells": [
  {
   "cell_type": "code",
   "execution_count": null,
   "id": "da18ba76-0f21-469b-bcdc-1261a96357da",
   "metadata": {},
   "outputs": [],
   "source": [
    "# Q1. What is Flask Framework? What are the advantages of Flask Framework?"
   ]
  },
  {
   "cell_type": "code",
   "execution_count": null,
   "id": "31bbaa7d-04d1-4e25-8744-795176347a43",
   "metadata": {},
   "outputs": [],
   "source": [
    "# Flask is a microframework for Python web development. It is a lightweight framework that is easy to learn and use.\n",
    "# Flask is based on the Werkzeug WSGI toolkit and the Jinja2 templating engine."
   ]
  },
  {
   "cell_type": "code",
   "execution_count": null,
   "id": "818837a9-090a-4423-aae6-85241b502ac7",
   "metadata": {},
   "outputs": [],
   "source": [
    "# Q2. Create a simple Flask application to display ‘Hello World!!’. Attach the screenshot of the output in Jupyter Notebook."
   ]
  },
  {
   "cell_type": "code",
   "execution_count": 4,
   "id": "b9b9446b-f0f2-4990-9e12-db00259e5d09",
   "metadata": {},
   "outputs": [],
   "source": [
    "# https://mango-hairdresser-qjxfz.pwskills.app/lab/tree/work/Hello%20World.png"
   ]
  },
  {
   "cell_type": "code",
   "execution_count": null,
   "id": "6301a0af-7ad4-4c92-9fcd-1e52b316b432",
   "metadata": {},
   "outputs": [],
   "source": [
    "# Q3. What is App routing in Flask? Why do we use app routes?"
   ]
  },
  {
   "cell_type": "code",
   "execution_count": null,
   "id": "0ca730b4-e4f3-464b-b7fd-4311268bef03",
   "metadata": {},
   "outputs": [],
   "source": [
    " # App routing in Flask is the process of mapping URLs to specific functions in your application.\n",
    "# This allows us to control what happens when a user visits a particular URL.\n",
    "\n",
    "# why do we use app routes?\n",
    "\n",
    "#To make our applications more user-friendly.\n",
    "# To make our applications more modular."
   ]
  },
  {
   "cell_type": "code",
   "execution_count": null,
   "id": "8a128ce1-4915-4805-a031-fb5941996c4e",
   "metadata": {},
   "outputs": [],
   "source": [
    "Q4.  Create a “/welcome” route to display the welcome message “Welcome to ABC Corporation” and a “/”\n",
    "route to show the following details:\n",
    "\n",
    "    Company Name: ABC Corporation\n",
    "\n",
    "    Location: India\n",
    "\n",
    "    Contact Detail: 999-999-9999 \n",
    "\n",
    "\n",
    "Attach the screenshot of the output in Jupyter Notebook."
   ]
  },
  {
   "cell_type": "code",
   "execution_count": 5,
   "id": "0ce60896-65e8-4519-b8de-2257620ed360",
   "metadata": {},
   "outputs": [],
   "source": [
    "# https://mango-hairdresser-qjxfz.pwskills.app/lab/tree/work/Company.png"
   ]
  },
  {
   "cell_type": "code",
   "execution_count": null,
   "id": "f85e0fdb-74b4-46bd-9d37-81e8f3c6010a",
   "metadata": {},
   "outputs": [],
   "source": [
    "Q5. What function is used in Flask for URL Building? Write a Python code to demonstrate the working of the url_for() function."
   ]
  },
  {
   "cell_type": "code",
   "execution_count": null,
   "id": "717c769e-a4b0-41b4-8b1c-829e3e6a08e3",
   "metadata": {},
   "outputs": [],
   "source": [
    "url_for() function is used in Flask for URL building. It takes two arguments: the name of the endpoint and a dictionary of keyword arguments.\n",
    "The endpoint name is the name of the function that is associated with the URL. The keyword arguments are the values that will be passed to \n",
    "the function when the URL is visited."
   ]
  }
 ],
 "metadata": {
  "kernelspec": {
   "display_name": "Python 3 (ipykernel)",
   "language": "python",
   "name": "python3"
  },
  "language_info": {
   "codemirror_mode": {
    "name": "ipython",
    "version": 3
   },
   "file_extension": ".py",
   "mimetype": "text/x-python",
   "name": "python",
   "nbconvert_exporter": "python",
   "pygments_lexer": "ipython3",
   "version": "3.10.8"
  }
 },
 "nbformat": 4,
 "nbformat_minor": 5
}
